{
 "cells": [
  {
   "cell_type": "code",
   "execution_count": 5,
   "id": "a331eea1",
   "metadata": {},
   "outputs": [
    {
     "name": "stdout",
     "output_type": "stream",
     "text": [
      "Hello, how are you?\n",
      "I am good, how about you?\n",
      "\n",
      "Today is 21/06/2025, have a good day.\n",
      "Peace\n"
     ]
    }
   ],
   "source": [
    "# Read a whole file\n",
    "\n",
    "with open('example.txt', 'r') as file:\n",
    "    content = file.read()\n",
    "    print(content)"
   ]
  },
  {
   "cell_type": "code",
   "execution_count": 10,
   "id": "3b47ee1b",
   "metadata": {},
   "outputs": [
    {
     "name": "stdout",
     "output_type": "stream",
     "text": [
      "Hello, how are you?\n",
      "I am good, how about you?\n",
      "Today is 21/06/2025, have a good day.\n",
      "Peace\n"
     ]
    }
   ],
   "source": [
    "with open('example.txt', 'r') as file:\n",
    "    for line in file:\n",
    "        print(line.strip())"
   ]
  },
  {
   "cell_type": "code",
   "execution_count": 1,
   "id": "3f374777",
   "metadata": {},
   "outputs": [],
   "source": [
    "with open('example.txt', 'w') as file:\n",
    "    file.write('Hello World!\\n')\n",
    "    file.write('This is a new line.')"
   ]
  },
  {
   "cell_type": "code",
   "execution_count": null,
   "id": "896cc66b",
   "metadata": {},
   "outputs": [],
   "source": [
    "# Write a file without over-writing\n",
    "with open('example.txt', 'a') as file:\n",
    "    file.write('\\nHello World two!\\n')\n",
    "    file.write('This is a new line but actually new.\\n')"
   ]
  },
  {
   "cell_type": "code",
   "execution_count": 6,
   "id": "a109fec5",
   "metadata": {},
   "outputs": [],
   "source": [
    "#Appening a series of lines\n",
    "lines = ['First line\\n', 'Second line\\n', 'Third line\\n']\n",
    "with open('example.txt', 'a') as file:\n",
    "    file.writelines(lines)"
   ]
  },
  {
   "cell_type": "code",
   "execution_count": 2,
   "id": "2bef0f3e",
   "metadata": {},
   "outputs": [],
   "source": [
    "data = b'\\x00\\x01\\x03\\x04'\n",
    "with open('binary.bin', 'wb') as file:\n",
    "    file.write(data)"
   ]
  },
  {
   "cell_type": "code",
   "execution_count": 5,
   "id": "ed75c040",
   "metadata": {},
   "outputs": [
    {
     "name": "stdout",
     "output_type": "stream",
     "text": [
      "b''\n"
     ]
    }
   ],
   "source": [
    "with open('binary.bin', 'rb') as file:\n",
    "    content = file.read()\n",
    "    print(content)"
   ]
  },
  {
   "cell_type": "code",
   "execution_count": 8,
   "id": "87c8338f",
   "metadata": {},
   "outputs": [],
   "source": [
    "with open('example.txt', 'r') as file:\n",
    "    content = file.read()\n",
    "    \n",
    "with open('destination.txt', 'w') as file:\n",
    "    file.write(content)"
   ]
  },
  {
   "cell_type": "code",
   "execution_count": 9,
   "id": "d05e61a4",
   "metadata": {},
   "outputs": [
    {
     "name": "stdout",
     "output_type": "stream",
     "text": [
      "Lines: 1, Words: 1, Characters: 2\n"
     ]
    }
   ],
   "source": [
    "def count_text_file(file_path):\n",
    "    with open('example.txt', 'r') as file:\n",
    "        lines = file.readlines()\n",
    "        lines_count = len(lines)\n",
    "        word_count = sum(len(line.split()) for line in lines)\n",
    "        char_count = sum(len(line) for line in lines)\n",
    "    return lines_count, word_count, char_count\n",
    "\n",
    "\n",
    "file_path = 'example.txt'\n",
    "lines, words, characters = count_text_file(file_path)\n",
    "print(f'Lines: {lines}, Words: {words}, Characters: {characters}')"
   ]
  },
  {
   "cell_type": "code",
   "execution_count": 14,
   "id": "5bcc7402",
   "metadata": {},
   "outputs": [
    {
     "name": "stdout",
     "output_type": "stream",
     "text": [
      "Hello World\n",
      "This is a new line.\n",
      "\n"
     ]
    }
   ],
   "source": [
    "# Writing and then reading a file:\n",
    "with open('example.txt', 'w+') as file:\n",
    "    file.write('Hello World\\n')\n",
    "    file.write('This is a new line.\\n')\n",
    "    \n",
    "    #Move the file cursor to the begining \n",
    "    file.seek(0)\n",
    "    \n",
    "    content = file.read()\n",
    "    print(content)\n",
    "    "
   ]
  },
  {
   "cell_type": "code",
   "execution_count": null,
   "id": "b34bd417",
   "metadata": {},
   "outputs": [],
   "source": []
  }
 ],
 "metadata": {
  "kernelspec": {
   "display_name": "Python 3",
   "language": "python",
   "name": "python3"
  },
  "language_info": {
   "codemirror_mode": {
    "name": "ipython",
    "version": 3
   },
   "file_extension": ".py",
   "mimetype": "text/x-python",
   "name": "python",
   "nbconvert_exporter": "python",
   "pygments_lexer": "ipython3",
   "version": "3.12.0"
  }
 },
 "nbformat": 4,
 "nbformat_minor": 5
}
