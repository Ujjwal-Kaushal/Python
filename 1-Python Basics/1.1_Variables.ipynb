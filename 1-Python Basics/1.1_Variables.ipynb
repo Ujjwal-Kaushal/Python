{
 "cells": [
  {
   "cell_type": "code",
   "execution_count": 2,
   "id": "2cb85305",
   "metadata": {},
   "outputs": [
    {
     "name": "stdout",
     "output_type": "stream",
     "text": [
      "Age: 32\n",
      "Name: UJJWAL\n",
      "Height: 6.1\n",
      "Is it a name: True\n"
     ]
    }
   ],
   "source": [
    "##Declaring and Assigning Variables\n",
    "age = 32\n",
    "name = \"UJJWAL\"\n",
    "height = 6.1\n",
    "is_name = True\n",
    "\n",
    "##Printing the assigned variables\n",
    "\n",
    "print(\"Age:\",age);\n",
    "print(\"Name:\",name)\n",
    "print(\"Height:\",height)\n",
    "print(\"Is it a name:\",is_name)"
   ]
  },
  {
   "cell_type": "code",
   "execution_count": null,
   "id": "7049f3d2",
   "metadata": {},
   "outputs": [],
   "source": [
    "#Variables Naming Convention\n",
    "#Variable names should be descriptive\n",
    "#They must start with a letter or an '_'and contains letters, numbers and underscores\n",
    "#Variables name are case sensitive\n",
    "\n",
    "\n",
    "#Valid variable names are:\n",
    "\n",
    "first_name = \"Ujjwal\"\n",
    "last_name = \"Kaushal\"\n",
    "\n"
   ]
  },
  {
   "cell_type": "code",
   "execution_count": null,
   "id": "fa35fd35",
   "metadata": {},
   "outputs": [
    {
     "ename": "SyntaxError",
     "evalue": "invalid decimal literal (3578302825.py, line 2)",
     "output_type": "error",
     "traceback": [
      "  \u001b[36mCell\u001b[39m\u001b[36m \u001b[39m\u001b[32mIn[3]\u001b[39m\u001b[32m, line 2\u001b[39m\n\u001b[31m    \u001b[39m\u001b[31m2age = 30\u001b[39m\n    ^\n\u001b[31mSyntaxError\u001b[39m\u001b[31m:\u001b[39m invalid decimal literal\n"
     ]
    }
   ],
   "source": [
    "#Invalid variable names\n",
    "\n",
    "#2age = 30\n",
    "#first-name = \"Ujjwal\"  \n",
    "#@name = \"Ujjwal\"\n"
   ]
  },
  {
   "cell_type": "code",
   "execution_count": 4,
   "id": "684188f9",
   "metadata": {},
   "outputs": [
    {
     "data": {
      "text/plain": [
       "True"
      ]
     },
     "execution_count": 4,
     "metadata": {},
     "output_type": "execute_result"
    }
   ],
   "source": [
    "#Case Sensitivity\n",
    "name = \"Ujjwal\"\n",
    "Name = \"Ujjwal\"\n",
    "\n",
    "name == Name"
   ]
  },
  {
   "cell_type": "code",
   "execution_count": 5,
   "id": "0e0d2cd2",
   "metadata": {},
   "outputs": [
    {
     "name": "stdout",
     "output_type": "stream",
     "text": [
      "<class 'str'>\n"
     ]
    }
   ],
   "source": [
    "#Understanding Variable types\n",
    "#Python is dynamically  types, type of variable is determined at runtime\n",
    "age = 25\n",
    "name = \"Ujjwal\"\n",
    "print(type(name))"
   ]
  },
  {
   "cell_type": "code",
   "execution_count": null,
   "id": "85c38731",
   "metadata": {},
   "outputs": [],
   "source": []
  },
  {
   "cell_type": "code",
   "execution_count": 6,
   "id": "4d855834",
   "metadata": {},
   "outputs": [
    {
     "data": {
      "text/plain": [
       "float"
      ]
     },
     "execution_count": 6,
     "metadata": {},
     "output_type": "execute_result"
    }
   ],
   "source": [
    "#Type Checking and Conversion\n",
    "type(height)"
   ]
  },
  {
   "cell_type": "code",
   "execution_count": 8,
   "id": "178927c9",
   "metadata": {},
   "outputs": [
    {
     "name": "stdout",
     "output_type": "stream",
     "text": [
      "<class 'str'>\n"
     ]
    }
   ],
   "source": [
    "age = 25\n",
    "age_str = str(age)\n",
    "print(type(age_str))"
   ]
  },
  {
   "cell_type": "code",
   "execution_count": 9,
   "id": "35c29fa0",
   "metadata": {},
   "outputs": [
    {
     "name": "stdout",
     "output_type": "stream",
     "text": [
      "10 <class 'int'>\n",
      "10 <class 'str'>\n",
      "3.14 <class 'float'>\n"
     ]
    }
   ],
   "source": [
    "#Dynamic Typing\n",
    "#Python allows the type of variable to change as the program executes\n",
    "\n",
    "var = 10\n",
    "print(var,type(var))\n",
    "\n",
    "var = \"10\"\n",
    "print(var,type(var))\n",
    "\n",
    "var = 3.14\n",
    "print(var,type(var))\n"
   ]
  },
  {
   "cell_type": "code",
   "execution_count": 10,
   "id": "9c7aba06",
   "metadata": {},
   "outputs": [
    {
     "name": "stdout",
     "output_type": "stream",
     "text": [
      "12\n"
     ]
    }
   ],
   "source": [
    "#input\n",
    "age = input(\"What is the input of age?\")\n",
    "print(age)"
   ]
  },
  {
   "cell_type": "code",
   "execution_count": 11,
   "id": "ce5a3da0",
   "metadata": {},
   "outputs": [
    {
     "name": "stdout",
     "output_type": "stream",
     "text": [
      "Sum: 24\n",
      "Difference: 0\n",
      "Product: 144\n",
      "Division: 1.0\n"
     ]
    }
   ],
   "source": [
    "##Simple calculator\n",
    "num1 = int(input(\"Enter the first number: \"))\n",
    "num2 = int(input(\"Enter the second number: \"))\n",
    "\n",
    "\n",
    "s1 = num1 + num2\n",
    "diff = num1 - num2\n",
    "prod = num1 * num2\n",
    "div = num1 / num2\n",
    "\n",
    "print(\"Sum:\",s1)\n",
    "print(\"Difference:\",diff)\n",
    "print(\"Product:\",prod)\n",
    "print(\"Division:\",div)"
   ]
  },
  {
   "cell_type": "code",
   "execution_count": null,
   "id": "efdeed62",
   "metadata": {},
   "outputs": [],
   "source": []
  }
 ],
 "metadata": {
  "kernelspec": {
   "display_name": "Python 3",
   "language": "python",
   "name": "python3"
  },
  "language_info": {
   "codemirror_mode": {
    "name": "ipython",
    "version": 3
   },
   "file_extension": ".py",
   "mimetype": "text/x-python",
   "name": "python",
   "nbconvert_exporter": "python",
   "pygments_lexer": "ipython3",
   "version": "3.12.0"
  }
 },
 "nbformat": 4,
 "nbformat_minor": 5
}
