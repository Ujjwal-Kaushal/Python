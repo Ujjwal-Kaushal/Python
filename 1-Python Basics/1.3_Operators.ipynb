{
 "cells": [
  {
   "cell_type": "code",
   "execution_count": 1,
   "id": "e3fea514",
   "metadata": {},
   "outputs": [
    {
     "name": "stdout",
     "output_type": "stream",
     "text": [
      "14\n",
      "6\n",
      "2.5\n",
      "40\n",
      "2\n",
      "2\n",
      "10000\n"
     ]
    }
   ],
   "source": [
    "#Mathematical Operations\n",
    "a = 10\n",
    "b = 4\n",
    "add = a+b\n",
    "sub = a-b\n",
    "div = a/b\n",
    "mult = a*b\n",
    "floor_div = a//b    \n",
    "mod = a%b\n",
    "exp = a**b\n",
    "\n",
    "print(add)\n",
    "print(sub)\n",
    "print(div)\n",
    "print(mult)\n",
    "print(floor_div)\n",
    "print(mod)\n",
    "print(exp)  "
   ]
  },
  {
   "cell_type": "code",
   "execution_count": 2,
   "id": "e998a79a",
   "metadata": {},
   "outputs": [
    {
     "data": {
      "text/plain": [
       "True"
      ]
     },
     "execution_count": 2,
     "metadata": {},
     "output_type": "execute_result"
    }
   ],
   "source": [
    "a = 5\n",
    "b = 5\n",
    "a == b"
   ]
  },
  {
   "cell_type": "code",
   "execution_count": 3,
   "id": "606a4391",
   "metadata": {},
   "outputs": [
    {
     "data": {
      "text/plain": [
       "False"
      ]
     },
     "execution_count": 3,
     "metadata": {},
     "output_type": "execute_result"
    }
   ],
   "source": [
    "a = 5\n",
    "b = 4\n",
    "a == b"
   ]
  },
  {
   "cell_type": "code",
   "execution_count": 5,
   "id": "a2ec6f1b",
   "metadata": {},
   "outputs": [
    {
     "data": {
      "text/plain": [
       "True"
      ]
     },
     "execution_count": 5,
     "metadata": {},
     "output_type": "execute_result"
    }
   ],
   "source": [
    "name = \"ujjwal\"\n",
    "name_2 = \"ujjwal\"\n",
    "name == name_2"
   ]
  },
  {
   "cell_type": "code",
   "execution_count": 7,
   "id": "602aa626",
   "metadata": {},
   "outputs": [
    {
     "data": {
      "text/plain": [
       "False"
      ]
     },
     "execution_count": 7,
     "metadata": {},
     "output_type": "execute_result"
    }
   ],
   "source": [
    "name = \"Ujjwal\"\n",
    "name_2 = \"ujjwal\"\n",
    "name == name_2"
   ]
  },
  {
   "cell_type": "code",
   "execution_count": 8,
   "id": "c0016879",
   "metadata": {},
   "outputs": [
    {
     "data": {
      "text/plain": [
       "True"
      ]
     },
     "execution_count": 8,
     "metadata": {},
     "output_type": "execute_result"
    }
   ],
   "source": [
    "name != name_2"
   ]
  },
  {
   "cell_type": "code",
   "execution_count": 9,
   "id": "d5f82f92",
   "metadata": {},
   "outputs": [
    {
     "data": {
      "text/plain": [
       "False"
      ]
     },
     "execution_count": 9,
     "metadata": {},
     "output_type": "execute_result"
    }
   ],
   "source": [
    "n1 = 2\n",
    "n2 = 3\n",
    "n1 > n2"
   ]
  },
  {
   "cell_type": "code",
   "execution_count": 10,
   "id": "125347d2",
   "metadata": {},
   "outputs": [
    {
     "data": {
      "text/plain": [
       "True"
      ]
     },
     "execution_count": 10,
     "metadata": {},
     "output_type": "execute_result"
    }
   ],
   "source": [
    "n2 > n1"
   ]
  },
  {
   "cell_type": "code",
   "execution_count": 11,
   "id": "d47877c7",
   "metadata": {},
   "outputs": [
    {
     "data": {
      "text/plain": [
       "False"
      ]
     },
     "execution_count": 11,
     "metadata": {},
     "output_type": "execute_result"
    }
   ],
   "source": [
    "n1 == n2"
   ]
  },
  {
   "cell_type": "code",
   "execution_count": 12,
   "id": "0e44c70e",
   "metadata": {},
   "outputs": [
    {
     "data": {
      "text/plain": [
       "True"
      ]
     },
     "execution_count": 12,
     "metadata": {},
     "output_type": "execute_result"
    }
   ],
   "source": [
    "n1 = 45\n",
    "n2 = 45\n",
    "n1 >= n2"
   ]
  },
  {
   "cell_type": "code",
   "execution_count": 13,
   "id": "9967baec",
   "metadata": {},
   "outputs": [
    {
     "name": "stdout",
     "output_type": "stream",
     "text": [
      "True\n"
     ]
    }
   ],
   "source": [
    "print(n1 >= n2)"
   ]
  },
  {
   "cell_type": "code",
   "execution_count": 14,
   "id": "452d16c0",
   "metadata": {},
   "outputs": [
    {
     "name": "stdout",
     "output_type": "stream",
     "text": [
      "0\n"
     ]
    }
   ],
   "source": [
    "#Logical Operators\n",
    "X = 0\n",
    "Y = 1\n",
    "\n",
    "print(X and 1)"
   ]
  },
  {
   "cell_type": "code",
   "execution_count": 15,
   "id": "b343b074",
   "metadata": {},
   "outputs": [
    {
     "name": "stdout",
     "output_type": "stream",
     "text": [
      "1\n"
     ]
    }
   ],
   "source": [
    "X = 1\n",
    "Y = 1\n",
    "print(X and Y)"
   ]
  },
  {
   "cell_type": "code",
   "execution_count": 16,
   "id": "4245c852",
   "metadata": {},
   "outputs": [
    {
     "name": "stdout",
     "output_type": "stream",
     "text": [
      "1\n"
     ]
    }
   ],
   "source": [
    "X = 1\n",
    "Y = 0\n",
    "print(X or Y)"
   ]
  },
  {
   "cell_type": "code",
   "execution_count": 17,
   "id": "cc1c58ae",
   "metadata": {},
   "outputs": [
    {
     "name": "stdout",
     "output_type": "stream",
     "text": [
      "False\n"
     ]
    }
   ],
   "source": [
    "X = 1\n",
    "print(not X)"
   ]
  },
  {
   "cell_type": "code",
   "execution_count": 18,
   "id": "00dea3ba",
   "metadata": {},
   "outputs": [
    {
     "name": "stdout",
     "output_type": "stream",
     "text": [
      "6\n"
     ]
    }
   ],
   "source": [
    "X = 2\n",
    "Y = 4\n",
    "print(X ^ Y)"
   ]
  },
  {
   "cell_type": "code",
   "execution_count": null,
   "id": "4e06aa69",
   "metadata": {},
   "outputs": [],
   "source": []
  }
 ],
 "metadata": {
  "kernelspec": {
   "display_name": "Python 3",
   "language": "python",
   "name": "python3"
  },
  "language_info": {
   "codemirror_mode": {
    "name": "ipython",
    "version": 3
   },
   "file_extension": ".py",
   "mimetype": "text/x-python",
   "name": "python",
   "nbconvert_exporter": "python",
   "pygments_lexer": "ipython3",
   "version": "3.12.0"
  }
 },
 "nbformat": 4,
 "nbformat_minor": 5
}
