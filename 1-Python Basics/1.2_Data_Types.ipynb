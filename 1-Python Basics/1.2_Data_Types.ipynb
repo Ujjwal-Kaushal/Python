{
 "cells": [
  {
   "cell_type": "code",
   "execution_count": null,
   "id": "759248a7",
   "metadata": {},
   "outputs": [],
   "source": [
    "# Data types are a classification of data which tells the compiler or interpretor how the programmer intends to use the data\n",
    "# They determine the type of operations that can be performed on the data, the values that the data can take, and the amount of memory needed to store the data.\n",
    "\n",
    "\n",
    "#Integer Examples\n",
    "age = 25;\n",
    "type(age)"
   ]
  },
  {
   "cell_type": "code",
   "execution_count": null,
   "id": "d85db07a",
   "metadata": {},
   "outputs": [
    {
     "name": "stdout",
     "output_type": "stream",
     "text": [
      "<class 'float'>\n"
     ]
    }
   ],
   "source": [
    "#Integer Examples\n",
    "age = 5.2\n",
    "type(age)\n",
    "print(type(age))"
   ]
  },
  {
   "cell_type": "code",
   "execution_count": 3,
   "id": "01448f23",
   "metadata": {},
   "outputs": [
    {
     "name": "stdout",
     "output_type": "stream",
     "text": [
      "<class 'str'>\n"
     ]
    }
   ],
   "source": [
    "#String Examples\n",
    "name = \"Ujjwal\"\n",
    "type(name)\n",
    "print(type(name))"
   ]
  },
  {
   "cell_type": "code",
   "execution_count": 4,
   "id": "5c45e149",
   "metadata": {},
   "outputs": [
    {
     "name": "stdout",
     "output_type": "stream",
     "text": [
      "<class 'bool'>\n"
     ]
    }
   ],
   "source": [
    "#Boolean Examples\n",
    "is_true = True\n",
    "type(is_true)\n",
    "print(type(is_true))"
   ]
  },
  {
   "cell_type": "code",
   "execution_count": null,
   "id": "b22b25fd",
   "metadata": {},
   "outputs": [],
   "source": []
  }
 ],
 "metadata": {
  "kernelspec": {
   "display_name": "Python 3",
   "language": "python",
   "name": "python3"
  },
  "language_info": {
   "codemirror_mode": {
    "name": "ipython",
    "version": 3
   },
   "file_extension": ".py",
   "mimetype": "text/x-python",
   "name": "python",
   "nbconvert_exporter": "python",
   "pygments_lexer": "ipython3",
   "version": "3.12.0"
  }
 },
 "nbformat": 4,
 "nbformat_minor": 5
}
