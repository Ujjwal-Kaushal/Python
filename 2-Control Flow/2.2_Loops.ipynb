{
 "cells": [
  {
   "cell_type": "code",
   "execution_count": null,
   "id": "92157c13",
   "metadata": {},
   "outputs": [],
   "source": [
    "range(5)"
   ]
  },
  {
   "cell_type": "code",
   "execution_count": 1,
   "id": "0aded2b9",
   "metadata": {},
   "outputs": [
    {
     "name": "stdout",
     "output_type": "stream",
     "text": [
      "0\n",
      "1\n",
      "2\n",
      "3\n",
      "4\n"
     ]
    }
   ],
   "source": [
    "for i in range(5):\n",
    "    print(i)"
   ]
  },
  {
   "cell_type": "code",
   "execution_count": 2,
   "id": "48b9bc07",
   "metadata": {},
   "outputs": [
    {
     "name": "stdout",
     "output_type": "stream",
     "text": [
      "1\n",
      "2\n",
      "3\n",
      "4\n",
      "5\n",
      "6\n",
      "7\n",
      "8\n",
      "9\n"
     ]
    }
   ],
   "source": [
    "for i in range(1,10):\n",
    "    print(i)"
   ]
  },
  {
   "cell_type": "code",
   "execution_count": 3,
   "id": "cebe5f79",
   "metadata": {},
   "outputs": [
    {
     "data": {
      "text/plain": [
       "range(1, 10)"
      ]
     },
     "execution_count": 3,
     "metadata": {},
     "output_type": "execute_result"
    }
   ],
   "source": [
    " range(1,10,1)"
   ]
  },
  {
   "cell_type": "code",
   "execution_count": 4,
   "id": "189fdeff",
   "metadata": {},
   "outputs": [
    {
     "data": {
      "text/plain": [
       "range(1, 10, 2)"
      ]
     },
     "execution_count": 4,
     "metadata": {},
     "output_type": "execute_result"
    }
   ],
   "source": [
    "range(1,10,2)"
   ]
  },
  {
   "cell_type": "code",
   "execution_count": 5,
   "id": "e6414762",
   "metadata": {},
   "outputs": [
    {
     "name": "stdout",
     "output_type": "stream",
     "text": [
      "1\n",
      "3\n",
      "5\n",
      "7\n",
      "9\n"
     ]
    }
   ],
   "source": [
    "for i in range(1,10,2):\n",
    "    print(i)"
   ]
  },
  {
   "cell_type": "code",
   "execution_count": 6,
   "id": "a2d62eb9",
   "metadata": {},
   "outputs": [
    {
     "name": "stdout",
     "output_type": "stream",
     "text": [
      "10\n",
      "9\n",
      "8\n",
      "7\n",
      "6\n",
      "5\n",
      "4\n",
      "3\n",
      "2\n"
     ]
    }
   ],
   "source": [
    "for i in range(10,1,-1):\n",
    "    print(i)"
   ]
  },
  {
   "cell_type": "code",
   "execution_count": 9,
   "id": "2761f5be",
   "metadata": {},
   "outputs": [
    {
     "name": "stdout",
     "output_type": "stream",
     "text": [
      "10\n",
      "8\n",
      "6\n",
      "4\n",
      "2\n"
     ]
    }
   ],
   "source": [
    "for i in range(10,1,-2):\n",
    "    print(i)"
   ]
  },
  {
   "cell_type": "code",
   "execution_count": 10,
   "id": "ca64fc21",
   "metadata": {},
   "outputs": [
    {
     "name": "stdout",
     "output_type": "stream",
     "text": [
      "U\n",
      "j\n",
      "j\n",
      "w\n",
      "a\n",
      "l\n",
      " \n",
      "K\n",
      "a\n",
      "u\n",
      "s\n",
      "h\n",
      "a\n",
      "l\n"
     ]
    }
   ],
   "source": [
    "str = \"Ujjwal Kaushal\"\n",
    "for i in str:\n",
    "    print(i)"
   ]
  },
  {
   "cell_type": "code",
   "execution_count": 11,
   "id": "e334c041",
   "metadata": {},
   "outputs": [
    {
     "name": "stdout",
     "output_type": "stream",
     "text": [
      "5\n",
      "6\n",
      "7\n",
      "8\n",
      "9\n"
     ]
    }
   ],
   "source": [
    "count = 5\n",
    "while count < 10:\n",
    "    print(count)\n",
    "    count += 1\n",
    "    "
   ]
  },
  {
   "cell_type": "code",
   "execution_count": 12,
   "id": "9a8c50a5",
   "metadata": {},
   "outputs": [
    {
     "name": "stdout",
     "output_type": "stream",
     "text": [
      "0\n",
      "2\n",
      "4\n",
      "6\n",
      "8\n"
     ]
    }
   ],
   "source": [
    "count = 0\n",
    "while count % 2 == 0 and count < 10:\n",
    "    print(count)\n",
    "    count += 2"
   ]
  },
  {
   "cell_type": "code",
   "execution_count": 15,
   "id": "d5941cd6",
   "metadata": {},
   "outputs": [
    {
     "name": "stdout",
     "output_type": "stream",
     "text": [
      "0 1 2 3 4 "
     ]
    }
   ],
   "source": [
    "#Break statements\n",
    "for i in range(10):\n",
    "    if(i == 5):\n",
    "        break\n",
    "    else:\n",
    "        print(i,end=\" \")"
   ]
  },
  {
   "cell_type": "code",
   "execution_count": 18,
   "id": "15f91b12",
   "metadata": {},
   "outputs": [
    {
     "name": "stdout",
     "output_type": "stream",
     "text": [
      "1 3 5 7 9 "
     ]
    }
   ],
   "source": [
    "for i in range(10):\n",
    "    if i % 2 == 0:\n",
    "        continue\n",
    "    print(i,end = \" \")\n"
   ]
  },
  {
   "cell_type": "code",
   "execution_count": 20,
   "id": "a85da3ef",
   "metadata": {},
   "outputs": [
    {
     "name": "stdout",
     "output_type": "stream",
     "text": [
      "0 1 2 3 4 5 6 7 8 9 "
     ]
    }
   ],
   "source": [
    "for i in range(10):\n",
    "    if i == 3:\n",
    "        pass\n",
    "    print(i,end = \" \")"
   ]
  },
  {
   "cell_type": "code",
   "execution_count": null,
   "id": "69419e46",
   "metadata": {},
   "outputs": [
    {
     "name": "stdout",
     "output_type": "stream",
     "text": [
      "i:1 and j:1\n",
      "i:1 and j:2\n",
      "i:1 and j:3\n",
      "i:1 and j:4\n",
      "i:1 and j:5\n",
      "i:1 and j:6\n",
      "i:1 and j:7\n",
      "i:1 and j:8\n",
      "i:1 and j:9\n",
      "i:2 and j:1\n",
      "i:2 and j:2\n",
      "i:2 and j:3\n",
      "i:2 and j:4\n",
      "i:2 and j:5\n",
      "i:2 and j:6\n",
      "i:2 and j:7\n",
      "i:2 and j:8\n",
      "i:2 and j:9\n",
      "i:3 and j:1\n",
      "i:3 and j:2\n",
      "i:3 and j:3\n",
      "i:3 and j:4\n",
      "i:3 and j:5\n",
      "i:3 and j:6\n",
      "i:3 and j:7\n",
      "i:3 and j:8\n",
      "i:3 and j:9\n",
      "i:4 and j:1\n",
      "i:4 and j:2\n",
      "i:4 and j:3\n",
      "i:4 and j:4\n",
      "i:4 and j:5\n",
      "i:4 and j:6\n",
      "i:4 and j:7\n",
      "i:4 and j:8\n",
      "i:4 and j:9\n",
      "i:5 and j:1\n",
      "i:5 and j:2\n",
      "i:5 and j:3\n",
      "i:5 and j:4\n",
      "i:5 and j:5\n",
      "i:5 and j:6\n",
      "i:5 and j:7\n",
      "i:5 and j:8\n",
      "i:5 and j:9\n",
      "i:6 and j:1\n",
      "i:6 and j:2\n",
      "i:6 and j:3\n",
      "i:6 and j:4\n",
      "i:6 and j:5\n",
      "i:6 and j:6\n",
      "i:6 and j:7\n",
      "i:6 and j:8\n",
      "i:6 and j:9\n",
      "i:7 and j:1\n",
      "i:7 and j:2\n",
      "i:7 and j:3\n",
      "i:7 and j:4\n",
      "i:7 and j:5\n",
      "i:7 and j:6\n",
      "i:7 and j:7\n",
      "i:7 and j:8\n",
      "i:7 and j:9\n",
      "i:8 and j:1\n",
      "i:8 and j:2\n",
      "i:8 and j:3\n",
      "i:8 and j:4\n",
      "i:8 and j:5\n",
      "i:8 and j:6\n",
      "i:8 and j:7\n",
      "i:8 and j:8\n",
      "i:8 and j:9\n",
      "i:9 and j:1\n",
      "i:9 and j:2\n",
      "i:9 and j:3\n",
      "i:9 and j:4\n",
      "i:9 and j:5\n",
      "i:9 and j:6\n",
      "i:9 and j:7\n",
      "i:9 and j:8\n",
      "i:9 and j:9\n"
     ]
    }
   ],
   "source": [
    "#Nested for loops\n",
    "for i in range(1,10):\n",
    "    for j in range(1,10):\n",
    "        print(f\"i:{i} and j:{j}\")"
   ]
  },
  {
   "cell_type": "code",
   "execution_count": 22,
   "id": "9d45fb7e",
   "metadata": {},
   "outputs": [
    {
     "name": "stdout",
     "output_type": "stream",
     "text": [
      "10 9 8 7 6 5 4 3 2 1 "
     ]
    }
   ],
   "source": [
    "n = int(input(\"Enter the number: \"))\n",
    "while n > 0:\n",
    "    print(n,end = \" \")\n",
    "    n -= 1"
   ]
  },
  {
   "cell_type": "code",
   "execution_count": 25,
   "id": "20e809f6",
   "metadata": {},
   "outputs": [
    {
     "name": "stdout",
     "output_type": "stream",
     "text": [
      "1 2 3 4 5 6 7 8 9 10 "
     ]
    }
   ],
   "source": [
    "n = int(input(\"Enter the number: \"))\n",
    "for i in range(1,n+1):\n",
    "    print(i,end = \" \")"
   ]
  },
  {
   "cell_type": "code",
   "execution_count": 28,
   "id": "b329202f",
   "metadata": {},
   "outputs": [
    {
     "name": "stdout",
     "output_type": "stream",
     "text": [
      "2 3 5 7 11 13 17 19 23 29 31 37 41 43 47 53 59 61 67 71 73 79 83 89 97 "
     ]
    }
   ],
   "source": [
    "#Prime numbers between 1 and 100 \n",
    "for i in range(1,101):\n",
    "    if i > 1:\n",
    "        for j in range(2,i):\n",
    "            if i % j == 0:\n",
    "                break\n",
    "        else:\n",
    "            print(i,end = \" \")\n"
   ]
  },
  {
   "cell_type": "code",
   "execution_count": null,
   "id": "dd484037",
   "metadata": {},
   "outputs": [],
   "source": []
  }
 ],
 "metadata": {
  "kernelspec": {
   "display_name": "Python 3",
   "language": "python",
   "name": "python3"
  },
  "language_info": {
   "codemirror_mode": {
    "name": "ipython",
    "version": 3
   },
   "file_extension": ".py",
   "mimetype": "text/x-python",
   "name": "python",
   "nbconvert_exporter": "python",
   "pygments_lexer": "ipython3",
   "version": "3.12.0"
  }
 },
 "nbformat": 4,
 "nbformat_minor": 5
}
