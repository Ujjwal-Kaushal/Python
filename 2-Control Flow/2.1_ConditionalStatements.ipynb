{
 "cells": [
  {
   "cell_type": "code",
   "execution_count": 1,
   "id": "33cf2f2e",
   "metadata": {},
   "outputs": [
    {
     "name": "stdout",
     "output_type": "stream",
     "text": [
      "You are an adult\n",
      "You are not an adult\n"
     ]
    }
   ],
   "source": [
    "##If statements\n",
    "age = 18\n",
    "if(age >= 18):\n",
    "    print(\"You are an adult\")\n",
    "print(\"You are not an adult\")"
   ]
  },
  {
   "cell_type": "code",
   "execution_count": null,
   "id": "53f67e54",
   "metadata": {},
   "outputs": [],
   "source": [
    "#Else statements\n",
    "age = 21\n",
    "if(age >= 26):\n",
    "    print(\"You are surely an adult\")\n",
    "else:\n",
    "    print(\"You are prolly a minor\")"
   ]
  },
  {
   "cell_type": "code",
   "execution_count": 2,
   "id": "0de50e8c",
   "metadata": {},
   "outputs": [
    {
     "name": "stdout",
     "output_type": "stream",
     "text": [
      "You are an adult\n"
     ]
    }
   ],
   "source": [
    "#Elif statemens\n",
    "#Elif = else if\n",
    "\n",
    "age = 20\n",
    "\n",
    "if age < 13:\n",
    "    print(\"You are a child\")\n",
    "elif age < 18:\n",
    "    print(\"You are a teenager\")\n",
    "else:\n",
    "    print(\"You are an adult\")"
   ]
  },
  {
   "cell_type": "code",
   "execution_count": null,
   "id": "4a169b40",
   "metadata": {},
   "outputs": [
    {
     "name": "stdout",
     "output_type": "stream",
     "text": [
      "The number is a positive number\n",
      "The number is an even number\n"
     ]
    }
   ],
   "source": [
    "#Nested if-else\n",
    "num = int(input(\"Enter the number\"))\n",
    "\n",
    "if num >= 0:\n",
    "    print(\"The number is a positive number\")\n",
    "    if num & 1:\n",
    "        print(\"The number is an odd number\")\n",
    "    else:\n",
    "        print(\"The number is an even number\")\n",
    "else:\n",
    "    print(\"The number is a negative number\")\n",
    "    if num & 1:\n",
    "        print(\"The number is an odd number\")\n",
    "    else:\n",
    "        print(\"The number is an even number\")        "
   ]
  },
  {
   "cell_type": "code",
   "execution_count": 1,
   "id": "682310e1",
   "metadata": {},
   "outputs": [
    {
     "name": "stdout",
     "output_type": "stream",
     "text": [
      "2022 is not a leap year\n"
     ]
    }
   ],
   "source": [
    "##Determining whether a year is a leap year or not\n",
    "year = int(input(\"Enter the year: \"))\n",
    "if year % 4 == 0:\n",
    "    if year % 100 == 0:\n",
    "        if year % 400 == 0:\n",
    "            print(year,\"is a leap year\")\n",
    "        else:\n",
    "            print(year,\"is not a leap year\")\n",
    "    else:\n",
    "        print(year,\"is a leap year\")\n",
    "else:\n",
    "    print(year,\"is not a leap year\")\n",
    "    "
   ]
  },
  {
   "cell_type": "code",
   "execution_count": null,
   "id": "dda642dd",
   "metadata": {},
   "outputs": [],
   "source": []
  }
 ],
 "metadata": {
  "kernelspec": {
   "display_name": "Python 3",
   "language": "python",
   "name": "python3"
  },
  "language_info": {
   "codemirror_mode": {
    "name": "ipython",
    "version": 3
   },
   "file_extension": ".py",
   "mimetype": "text/x-python",
   "name": "python",
   "nbconvert_exporter": "python",
   "pygments_lexer": "ipython3",
   "version": "3.12.0"
  }
 },
 "nbformat": 4,
 "nbformat_minor": 5
}
