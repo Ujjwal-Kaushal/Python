{
 "cells": [
  {
   "cell_type": "code",
   "execution_count": 1,
   "id": "5a9df30c",
   "metadata": {},
   "outputs": [
    {
     "name": "stdout",
     "output_type": "stream",
     "text": [
      "<class 'dict'>\n"
     ]
    }
   ],
   "source": [
    "#Dictionaries are unordered collections of items. They store data in key value pairs. Key must be unique and immutable \n",
    "#Creating dictionaries\n",
    "\n",
    "d1 = {}\n",
    "print(type(d1))"
   ]
  },
  {
   "cell_type": "code",
   "execution_count": 2,
   "id": "c5dd2b4f",
   "metadata": {},
   "outputs": [
    {
     "name": "stdout",
     "output_type": "stream",
     "text": [
      "<class 'dict'>\n"
     ]
    }
   ],
   "source": [
    "empty_dictionary = dict()\n",
    "print(type(empty_dictionary))"
   ]
  },
  {
   "cell_type": "code",
   "execution_count": 3,
   "id": "08636413",
   "metadata": {},
   "outputs": [
    {
     "name": "stdout",
     "output_type": "stream",
     "text": [
      "{'name': 'ram', 'age': 32, 'grade': 12}\n"
     ]
    }
   ],
   "source": [
    "stud = {\"name\" : \"ram\", \"age\" : 32, \"grade\" : 12}\n",
    "print(stud)"
   ]
  },
  {
   "cell_type": "code",
   "execution_count": 8,
   "id": "6be347da",
   "metadata": {},
   "outputs": [
    {
     "name": "stdout",
     "output_type": "stream",
     "text": [
      "{'name': 'ujjwal', 'age': 32, 'grade': 12}\n"
     ]
    }
   ],
   "source": [
    "stud = {\"name\" : \"ram\", \"age\" : 32, \"grade\": 12,\"name\" : \"ujjwal\"}\n",
    "print(stud)"
   ]
  },
  {
   "cell_type": "code",
   "execution_count": null,
   "id": "6deaa84d",
   "metadata": {},
   "outputs": [
    {
     "name": "stdout",
     "output_type": "stream",
     "text": [
      "12\n"
     ]
    }
   ],
   "source": [
    "print(stud[\"name\"])"
   ]
  },
  {
   "cell_type": "code",
   "execution_count": 9,
   "id": "5082e87b",
   "metadata": {},
   "outputs": [
    {
     "name": "stdout",
     "output_type": "stream",
     "text": [
      "12\n"
     ]
    }
   ],
   "source": [
    "print(stud[\"grade\"])"
   ]
  },
  {
   "cell_type": "code",
   "execution_count": 10,
   "id": "411e291a",
   "metadata": {},
   "outputs": [
    {
     "name": "stdout",
     "output_type": "stream",
     "text": [
      "ujjwal\n"
     ]
    }
   ],
   "source": [
    "#Accessing through get method\n",
    "print(stud.get(\"name\"))"
   ]
  },
  {
   "cell_type": "code",
   "execution_count": 11,
   "id": "e33e2904",
   "metadata": {},
   "outputs": [
    {
     "name": "stdout",
     "output_type": "stream",
     "text": [
      "32\n"
     ]
    }
   ],
   "source": [
    "print(stud.get(\"age\"))"
   ]
  },
  {
   "cell_type": "code",
   "execution_count": 12,
   "id": "d8f30bc0",
   "metadata": {},
   "outputs": [
    {
     "name": "stdout",
     "output_type": "stream",
     "text": [
      "None\n"
     ]
    }
   ],
   "source": [
    "print(stud.get('lastname'))"
   ]
  },
  {
   "cell_type": "code",
   "execution_count": 13,
   "id": "2f13506f",
   "metadata": {},
   "outputs": [
    {
     "name": "stdout",
     "output_type": "stream",
     "text": [
      "Not Available\n"
     ]
    }
   ],
   "source": [
    "print(stud.get(\"last_name\",\"Not Available\"))"
   ]
  },
  {
   "cell_type": "code",
   "execution_count": 14,
   "id": "3938a68a",
   "metadata": {},
   "outputs": [
    {
     "name": "stdout",
     "output_type": "stream",
     "text": [
      "{'name': 'ujjwal', 'age': 32, 'grade': 12}\n"
     ]
    }
   ],
   "source": [
    "#Dictionary is mutable, so you can easily update,add or delete key-value pair given that your key is always unique\n",
    "print(stud)"
   ]
  },
  {
   "cell_type": "code",
   "execution_count": 15,
   "id": "a4e4c9e2",
   "metadata": {},
   "outputs": [
    {
     "name": "stdout",
     "output_type": "stream",
     "text": [
      "{'name': 'ujjwal', 'age': 33, 'grade': 12}\n",
      "{'name': 'ujjwal', 'age': 33, 'grade': 12, 'address': 'Bopal'}\n"
     ]
    }
   ],
   "source": [
    "stud[\"age\"] =33\n",
    "print(stud)\n",
    "stud[\"address\"] = \"Bopal\"\n",
    "print(stud)"
   ]
  },
  {
   "cell_type": "code",
   "execution_count": 16,
   "id": "5b94e4f1",
   "metadata": {},
   "outputs": [
    {
     "name": "stdout",
     "output_type": "stream",
     "text": [
      "{'name': 'ujjwal', 'age': 33, 'address': 'Bopal'}\n"
     ]
    }
   ],
   "source": [
    "del stud[\"grade\"] #deletes the grade key value pair from the student dictionary\n",
    "print(stud)"
   ]
  },
  {
   "cell_type": "code",
   "execution_count": 17,
   "id": "3f6d1750",
   "metadata": {},
   "outputs": [
    {
     "name": "stdout",
     "output_type": "stream",
     "text": [
      "dict_keys(['name', 'age', 'address'])\n",
      "dict_values(['ujjwal', 33, 'Bopal'])\n"
     ]
    }
   ],
   "source": [
    "#Dictionary Methods\n",
    "keys = stud.keys()\n",
    "print(keys)\n",
    "val = stud.values()\n",
    "print(val)"
   ]
  },
  {
   "cell_type": "code",
   "execution_count": 18,
   "id": "e0345244",
   "metadata": {},
   "outputs": [
    {
     "name": "stdout",
     "output_type": "stream",
     "text": [
      "dict_items([('name', 'ujjwal'), ('age', 33), ('address', 'Bopal')])\n"
     ]
    }
   ],
   "source": [
    "it = stud.items()\n",
    "print(it)"
   ]
  },
  {
   "cell_type": "code",
   "execution_count": 19,
   "id": "3c0b266b",
   "metadata": {},
   "outputs": [
    {
     "name": "stdout",
     "output_type": "stream",
     "text": [
      "{'name': 'kaushal', 'age': 33, 'address': 'Bopal'}\n",
      "{'name': 'ujjwal', 'age': 33, 'address': 'Bopal'}\n"
     ]
    }
   ],
   "source": [
    "#Shallow copy\n",
    "stud_copy = stud.copy();\n",
    "stud[\"name\"] = \"kaushal\"\n",
    "print(stud)\n",
    "print(stud_copy)"
   ]
  },
  {
   "cell_type": "code",
   "execution_count": 20,
   "id": "2ebd0253",
   "metadata": {},
   "outputs": [
    {
     "name": "stdout",
     "output_type": "stream",
     "text": [
      "name\n",
      "age\n",
      "address\n"
     ]
    }
   ],
   "source": [
    "#Iterating over dictionaries\n",
    "for keys in stud.keys():\n",
    "    print(keys)"
   ]
  },
  {
   "cell_type": "code",
   "execution_count": 21,
   "id": "01d3b000",
   "metadata": {},
   "outputs": [
    {
     "name": "stdout",
     "output_type": "stream",
     "text": [
      "('name', 'kaushal')\n",
      "('age', 33)\n",
      "('address', 'Bopal')\n"
     ]
    }
   ],
   "source": [
    "for items in stud.items():\n",
    "    print(items)"
   ]
  },
  {
   "cell_type": "code",
   "execution_count": 22,
   "id": "797261da",
   "metadata": {},
   "outputs": [
    {
     "name": "stdout",
     "output_type": "stream",
     "text": [
      "kaushal\n",
      "33\n",
      "Bopal\n"
     ]
    }
   ],
   "source": [
    "for val in stud.values():\n",
    "    print(val)"
   ]
  },
  {
   "cell_type": "code",
   "execution_count": null,
   "id": "f0e16124",
   "metadata": {},
   "outputs": [],
   "source": [
    "#Nested Dictionaries\n"
   ]
  }
 ],
 "metadata": {
  "kernelspec": {
   "display_name": "Python 3",
   "language": "python",
   "name": "python3"
  },
  "language_info": {
   "codemirror_mode": {
    "name": "ipython",
    "version": 3
   },
   "file_extension": ".py",
   "mimetype": "text/x-python",
   "name": "python",
   "nbconvert_exporter": "python",
   "pygments_lexer": "ipython3",
   "version": "3.12.0"
  }
 },
 "nbformat": 4,
 "nbformat_minor": 5
}
