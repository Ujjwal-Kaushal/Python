{
 "cells": [
  {
   "cell_type": "code",
   "execution_count": 1,
   "id": "fe86337c",
   "metadata": {},
   "outputs": [
    {
     "name": "stdout",
     "output_type": "stream",
     "text": [
      "()\n",
      "<class 'tuple'>\n"
     ]
    }
   ],
   "source": [
    "#Tuples are ordered collection of items that are immutable. They are similar to lists, but their immutability makes them different\n",
    "empty_tuple = ()\n",
    "print(empty_tuple)\n",
    "print(type(empty_tuple))"
   ]
  },
  {
   "cell_type": "code",
   "execution_count": 2,
   "id": "f8a339d5",
   "metadata": {},
   "outputs": [
    {
     "name": "stdout",
     "output_type": "stream",
     "text": [
      "<class 'list'>\n",
      "<class 'tuple'>\n"
     ]
    }
   ],
   "source": [
    "ls = list()\n",
    "print(type(ls))\n",
    "tu = tuple()\n",
    "print(type(tu))"
   ]
  },
  {
   "cell_type": "code",
   "execution_count": 3,
   "id": "042f100b",
   "metadata": {},
   "outputs": [
    {
     "name": "stdout",
     "output_type": "stream",
     "text": [
      "<class 'list'>\n"
     ]
    }
   ],
   "source": [
    "nums = ([1,2,3,4])\n",
    "print(type(nums))"
   ]
  },
  {
   "cell_type": "code",
   "execution_count": 5,
   "id": "13c85e5a",
   "metadata": {},
   "outputs": [
    {
     "name": "stdout",
     "output_type": "stream",
     "text": [
      "<class 'tuple'>\n"
     ]
    }
   ],
   "source": [
    "ls = [1,2,3,4]\n",
    "nums = tuple(ls)\n",
    "print(type(nums))"
   ]
  },
  {
   "cell_type": "code",
   "execution_count": 6,
   "id": "255712ea",
   "metadata": {},
   "outputs": [
    {
     "name": "stdout",
     "output_type": "stream",
     "text": [
      "<class 'list'>\n"
     ]
    }
   ],
   "source": [
    "tup = ()\n",
    "ls = list(tup)\n",
    "print(type(ls))"
   ]
  },
  {
   "cell_type": "code",
   "execution_count": 7,
   "id": "85083d53",
   "metadata": {},
   "outputs": [
    {
     "name": "stdout",
     "output_type": "stream",
     "text": [
      "(1, 'UJJWAL', True, 3.14)\n"
     ]
    }
   ],
   "source": [
    "mxtup = (1,\"UJJWAL\",True,3.14)\n",
    "print(mxtup)"
   ]
  },
  {
   "cell_type": "code",
   "execution_count": 8,
   "id": "08aa0b04",
   "metadata": {},
   "outputs": [
    {
     "name": "stdout",
     "output_type": "stream",
     "text": [
      "1\n"
     ]
    }
   ],
   "source": [
    "#Accessing the elements for tuple\n",
    "print(mxtup[0])"
   ]
  },
  {
   "cell_type": "code",
   "execution_count": 9,
   "id": "52d68e11",
   "metadata": {},
   "outputs": [
    {
     "name": "stdout",
     "output_type": "stream",
     "text": [
      "4\n"
     ]
    }
   ],
   "source": [
    "print(nums[-1])"
   ]
  },
  {
   "cell_type": "code",
   "execution_count": 10,
   "id": "78c48937",
   "metadata": {},
   "outputs": [
    {
     "name": "stdout",
     "output_type": "stream",
     "text": [
      "(1, 'UJJWAL', True, 3.14, 1, 2, 3, 4)\n"
     ]
    }
   ],
   "source": [
    "#Tuple Operations\n",
    "concat = mxtup + nums\n",
    "print(concat)"
   ]
  },
  {
   "cell_type": "code",
   "execution_count": 11,
   "id": "a3e254e6",
   "metadata": {},
   "outputs": [
    {
     "data": {
      "text/plain": [
       "(1, 2, 3, 4, 1, 2, 3, 4, 1, 2, 3, 4)"
      ]
     },
     "execution_count": 11,
     "metadata": {},
     "output_type": "execute_result"
    }
   ],
   "source": [
    "nums*3"
   ]
  },
  {
   "cell_type": "code",
   "execution_count": 12,
   "id": "b613db9c",
   "metadata": {},
   "outputs": [
    {
     "data": {
      "text/plain": [
       "(1,\n",
       " 'UJJWAL',\n",
       " True,\n",
       " 3.14,\n",
       " 1,\n",
       " 2,\n",
       " 3,\n",
       " 4,\n",
       " 1,\n",
       " 'UJJWAL',\n",
       " True,\n",
       " 3.14,\n",
       " 1,\n",
       " 2,\n",
       " 3,\n",
       " 4,\n",
       " 1,\n",
       " 'UJJWAL',\n",
       " True,\n",
       " 3.14,\n",
       " 1,\n",
       " 2,\n",
       " 3,\n",
       " 4)"
      ]
     },
     "execution_count": 12,
     "metadata": {},
     "output_type": "execute_result"
    }
   ],
   "source": [
    "concat*3"
   ]
  },
  {
   "cell_type": "code",
   "execution_count": null,
   "id": "e8c1bb39",
   "metadata": {},
   "outputs": [
    {
     "name": "stdout",
     "output_type": "stream",
     "text": [
      "[1, 'ujjwal', 3, 4]\n"
     ]
    }
   ],
   "source": [
    "ls1 = [1,2,3,4]\n",
    "ls1[1] = \"ujjwal\" #lists are mutable\n",
    "\n",
    "print(ls1)"
   ]
  },
  {
   "cell_type": "code",
   "execution_count": null,
   "id": "5bff0b47",
   "metadata": {},
   "outputs": [
    {
     "ename": "TypeError",
     "evalue": "'tuple' object does not support item assignment",
     "output_type": "error",
     "traceback": [
      "\u001b[31m---------------------------------------------------------------------------\u001b[39m",
      "\u001b[31mTypeError\u001b[39m                                 Traceback (most recent call last)",
      "\u001b[36mCell\u001b[39m\u001b[36m \u001b[39m\u001b[32mIn[15]\u001b[39m\u001b[32m, line 2\u001b[39m\n\u001b[32m      1\u001b[39m t = (\u001b[32m1\u001b[39m,\u001b[32m2\u001b[39m,\u001b[32m3\u001b[39m,\u001b[32m4\u001b[39m)\n\u001b[32m----> \u001b[39m\u001b[32m2\u001b[39m \u001b[43mt\u001b[49m\u001b[43m[\u001b[49m\u001b[32;43m1\u001b[39;49m\u001b[43m]\u001b[49m = \u001b[32m2\u001b[39m\n\u001b[32m      3\u001b[39m \u001b[38;5;28mprint\u001b[39m(t)\n",
      "\u001b[31mTypeError\u001b[39m: 'tuple' object does not support item assignment"
     ]
    }
   ],
   "source": [
    "t = (1,2,3,4)\n",
    "#t[1] = 2 tuples are immutable\n",
    "print(t)"
   ]
  },
  {
   "cell_type": "code",
   "execution_count": 16,
   "id": "dda7dc04",
   "metadata": {},
   "outputs": [
    {
     "data": {
      "text/plain": [
       "(1, 2, 3, 4)"
      ]
     },
     "execution_count": 16,
     "metadata": {},
     "output_type": "execute_result"
    }
   ],
   "source": [
    "nums"
   ]
  },
  {
   "cell_type": "code",
   "execution_count": 20,
   "id": "566e7597",
   "metadata": {},
   "outputs": [
    {
     "name": "stdout",
     "output_type": "stream",
     "text": [
      "1\n",
      "2\n"
     ]
    }
   ],
   "source": [
    "print(nums.count(1))\n",
    "print(nums.index(3)) #Returns the index of the first occurance of the value"
   ]
  },
  {
   "cell_type": "code",
   "execution_count": 21,
   "id": "fbba8c71",
   "metadata": {},
   "outputs": [
    {
     "name": "stdout",
     "output_type": "stream",
     "text": [
      "(1, 'Ujjwal', True)\n"
     ]
    }
   ],
   "source": [
    "#Packing and Unpacking in tuples\n",
    "pack_tup = 1,\"Ujjwal\",True\n",
    "print(pack_tup)"
   ]
  },
  {
   "cell_type": "code",
   "execution_count": 22,
   "id": "b50f9a04",
   "metadata": {},
   "outputs": [
    {
     "name": "stdout",
     "output_type": "stream",
     "text": [
      "1 Ujjwal True\n"
     ]
    }
   ],
   "source": [
    "#Unpacking a tuple\n",
    "a,b,c = pack_tup\n",
    "print(a,b,c)"
   ]
  },
  {
   "cell_type": "code",
   "execution_count": 23,
   "id": "bfb06c1c",
   "metadata": {},
   "outputs": [
    {
     "name": "stdout",
     "output_type": "stream",
     "text": [
      "1 [2, 3] 4\n"
     ]
    }
   ],
   "source": [
    "#Unpacking a tuple with *\n",
    "first,*middle,last = nums\n",
    "print(first,middle,last)"
   ]
  },
  {
   "cell_type": "code",
   "execution_count": null,
   "id": "55687e97",
   "metadata": {},
   "outputs": [],
   "source": []
  }
 ],
 "metadata": {
  "kernelspec": {
   "display_name": "Python 3",
   "language": "python",
   "name": "python3"
  },
  "language_info": {
   "codemirror_mode": {
    "name": "ipython",
    "version": 3
   },
   "file_extension": ".py",
   "mimetype": "text/x-python",
   "name": "python",
   "nbconvert_exporter": "python",
   "pygments_lexer": "ipython3",
   "version": "3.12.0"
  }
 },
 "nbformat": 4,
 "nbformat_minor": 5
}
