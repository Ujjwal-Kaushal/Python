{
 "cells": [
  {
   "cell_type": "code",
   "execution_count": null,
   "id": "7c94d7d4",
   "metadata": {},
   "outputs": [],
   "source": []
  },
  {
   "cell_type": "code",
   "execution_count": 2,
   "id": "e3ec1521",
   "metadata": {},
   "outputs": [],
   "source": [
    "def square(num):\n",
    "    return num ** 2"
   ]
  },
  {
   "cell_type": "code",
   "execution_count": 3,
   "id": "20aafe12",
   "metadata": {},
   "outputs": [
    {
     "data": {
      "text/plain": [
       "[1, 4, 9, 16, 25, 36, 49, 64]"
      ]
     },
     "execution_count": 3,
     "metadata": {},
     "output_type": "execute_result"
    }
   ],
   "source": [
    "num = [1,2,3,4,5,6,7,8]\n",
    "list(map(square,num))"
   ]
  },
  {
   "cell_type": "code",
   "execution_count": 4,
   "id": "8e8a016e",
   "metadata": {},
   "outputs": [
    {
     "data": {
      "text/plain": [
       "[1, 4, 9, 16, 25, 36, 49, 64]"
      ]
     },
     "execution_count": 4,
     "metadata": {},
     "output_type": "execute_result"
    }
   ],
   "source": [
    "list(map(lambda x : x ** 2, num))"
   ]
  },
  {
   "cell_type": "code",
   "execution_count": 5,
   "id": "9e14cf16",
   "metadata": {},
   "outputs": [
    {
     "name": "stdout",
     "output_type": "stream",
     "text": [
      "[5, 7, 9]\n"
     ]
    }
   ],
   "source": [
    "n1 = [1,2,3]\n",
    "n2 = [4,5,6]\n",
    "\n",
    "fn = list(map(lambda x,y : x + y, n1, n2))\n",
    "print(fn)"
   ]
  },
  {
   "cell_type": "code",
   "execution_count": 7,
   "id": "682db88b",
   "metadata": {},
   "outputs": [
    {
     "name": "stdout",
     "output_type": "stream",
     "text": [
      "[1, 2, 3, 4, 5, 6]\n"
     ]
    }
   ],
   "source": [
    "strn = ['1','2','3','4','5','6']\n",
    "intn = list(map(int, strn))\n",
    "print(intn)"
   ]
  },
  {
   "cell_type": "code",
   "execution_count": 9,
   "id": "f3f0465f",
   "metadata": {},
   "outputs": [
    {
     "name": "stdout",
     "output_type": "stream",
     "text": [
      "['UJJWAL', 'KAUSHAL', 'SAHARSH', 'JAIN']\n"
     ]
    }
   ],
   "source": [
    "words = [\"ujjwal\",\"kaushal\",\"saharsh\", \"jain\"]\n",
    "fwords = list(map(str.upper, words))\n",
    "print(fwords)"
   ]
  },
  {
   "cell_type": "code",
   "execution_count": null,
   "id": "e7a265ce",
   "metadata": {},
   "outputs": [],
   "source": []
  }
 ],
 "metadata": {
  "kernelspec": {
   "display_name": "Python 3",
   "language": "python",
   "name": "python3"
  },
  "language_info": {
   "codemirror_mode": {
    "name": "ipython",
    "version": 3
   },
   "file_extension": ".py",
   "mimetype": "text/x-python",
   "name": "python",
   "nbconvert_exporter": "python",
   "pygments_lexer": "ipython3",
   "version": "3.12.0"
  }
 },
 "nbformat": 4,
 "nbformat_minor": 5
}
