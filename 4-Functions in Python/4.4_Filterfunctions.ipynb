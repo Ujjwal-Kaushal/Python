{
 "cells": [
  {
   "cell_type": "code",
   "execution_count": 1,
   "id": "3020a0f7",
   "metadata": {},
   "outputs": [],
   "source": [
    "def even(num):\n",
    "    return num % 2 == 0"
   ]
  },
  {
   "cell_type": "code",
   "execution_count": 2,
   "id": "b3273ca4",
   "metadata": {},
   "outputs": [
    {
     "data": {
      "text/plain": [
       "True"
      ]
     },
     "execution_count": 2,
     "metadata": {},
     "output_type": "execute_result"
    }
   ],
   "source": [
    "even(2)"
   ]
  },
  {
   "cell_type": "code",
   "execution_count": 3,
   "id": "17f1d502",
   "metadata": {},
   "outputs": [
    {
     "data": {
      "text/plain": [
       "[2, 4, 6, 8, 10, 12]"
      ]
     },
     "execution_count": 3,
     "metadata": {},
     "output_type": "execute_result"
    }
   ],
   "source": [
    "lst = [1,2,3,4,5,6,7,8,9,10,11,12]\n",
    "list(filter(even,lst))"
   ]
  },
  {
   "cell_type": "code",
   "execution_count": 4,
   "id": "beb666c4",
   "metadata": {},
   "outputs": [],
   "source": [
    "gthan5 = list(filter(lambda x : x>5,lst))"
   ]
  },
  {
   "cell_type": "code",
   "execution_count": 7,
   "id": "b7c07cf4",
   "metadata": {},
   "outputs": [
    {
     "name": "stdout",
     "output_type": "stream",
     "text": [
      "[6, 7, 8, 9, 10, 11, 12]\n"
     ]
    }
   ],
   "source": [
    "print(gthan5)"
   ]
  },
  {
   "cell_type": "code",
   "execution_count": 8,
   "id": "d12a89d3",
   "metadata": {},
   "outputs": [
    {
     "name": "stdout",
     "output_type": "stream",
     "text": [
      "[6, 8, 10, 12]\n"
     ]
    }
   ],
   "source": [
    "doublecondition = list(filter(lambda x : x>5 and x % 2 == 0, lst))\n",
    "print(doublecondition)"
   ]
  },
  {
   "cell_type": "code",
   "execution_count": 12,
   "id": "93b084ae",
   "metadata": {},
   "outputs": [
    {
     "data": {
      "text/plain": [
       "[{'name': 'kaushal', 'age': 23}, {'name': 'john', 'age': 24}]"
      ]
     },
     "execution_count": 12,
     "metadata": {},
     "output_type": "execute_result"
    }
   ],
   "source": [
    "people = [\n",
    "    {'name' : 'ujjwal', 'age' : 21},\n",
    "    {'name' : 'kaushal', 'age' : 23},\n",
    "    {'name' : 'john', 'age' : 24},\n",
    "]\n",
    "\n",
    "def age_greater_than_22(person):\n",
    "    return person['age'] > 22\n",
    "\n",
    "list(filter(age_greater_than_22, people))"
   ]
  },
  {
   "cell_type": "code",
   "execution_count": null,
   "id": "69a67fb9",
   "metadata": {},
   "outputs": [],
   "source": []
  }
 ],
 "metadata": {
  "kernelspec": {
   "display_name": "Python 3",
   "language": "python",
   "name": "python3"
  },
  "language_info": {
   "codemirror_mode": {
    "name": "ipython",
    "version": 3
   },
   "file_extension": ".py",
   "mimetype": "text/x-python",
   "name": "python",
   "nbconvert_exporter": "python",
   "pygments_lexer": "ipython3",
   "version": "3.12.0"
  }
 },
 "nbformat": 4,
 "nbformat_minor": 5
}
