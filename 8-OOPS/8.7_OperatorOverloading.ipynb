{
 "cells": [
  {
   "cell_type": "code",
   "execution_count": 5,
   "id": "e90baf17",
   "metadata": {},
   "outputs": [
    {
     "ename": "TypeError",
     "evalue": "Vector.__repr__() missing 1 required positional argument: 'other'",
     "output_type": "error",
     "traceback": [
      "\u001b[31m---------------------------------------------------------------------------\u001b[39m",
      "\u001b[31mTypeError\u001b[39m                                 Traceback (most recent call last)",
      "\u001b[36mCell\u001b[39m\u001b[36m \u001b[39m\u001b[32mIn[5]\u001b[39m\u001b[32m, line 24\u001b[39m\n\u001b[32m     21\u001b[39m v1 = Vector(\u001b[32m2\u001b[39m,\u001b[32m3\u001b[39m)\n\u001b[32m     22\u001b[39m v2 = Vector(\u001b[32m4\u001b[39m,\u001b[32m5\u001b[39m)\n\u001b[32m---> \u001b[39m\u001b[32m24\u001b[39m \u001b[38;5;28;43mprint\u001b[39;49m\u001b[43m(\u001b[49m\u001b[43mv1\u001b[49m\u001b[43m+\u001b[49m\u001b[43mv2\u001b[49m\u001b[43m)\u001b[49m    \n",
      "\u001b[31mTypeError\u001b[39m: Vector.__repr__() missing 1 required positional argument: 'other'"
     ]
    }
   ],
   "source": [
    "class Vector:\n",
    "    def __init__(self, x, y):\n",
    "        self.x = x;\n",
    "        self.y = y;\n",
    "        \n",
    "    def __add__ (self, other):\n",
    "        return Vector(self.x + other.x , self.y + other.y)\n",
    "    \n",
    "    def __sub__ (self, other):\n",
    "        return Vector(self.x - other.x , self.y - other.y)\n",
    "    \n",
    "    def __mul__ (self, other):\n",
    "        return Vector(self.x * other.x , self.y * other.y)\n",
    "    \n",
    "    def __eq__(self, other):\n",
    "        return self.x == other.x and self.y == other.y\n",
    "    \n",
    "    def __repr__(self, other):\n",
    "        return f\"Vector({self.x}, {self.y})\"\n",
    "            \n",
    "v1 = Vector(2,3)\n",
    "v2 = Vector(4,5)\n",
    "\n",
    "print(v1+v2)    "
   ]
  },
  {
   "cell_type": "code",
   "execution_count": null,
   "id": "a6a106aa",
   "metadata": {},
   "outputs": [],
   "source": []
  }
 ],
 "metadata": {
  "kernelspec": {
   "display_name": "Python 3",
   "language": "python",
   "name": "python3"
  },
  "language_info": {
   "codemirror_mode": {
    "name": "ipython",
    "version": 3
   },
   "file_extension": ".py",
   "mimetype": "text/x-python",
   "name": "python",
   "nbconvert_exporter": "python",
   "pygments_lexer": "ipython3",
   "version": "3.12.0"
  }
 },
 "nbformat": 4,
 "nbformat_minor": 5
}
