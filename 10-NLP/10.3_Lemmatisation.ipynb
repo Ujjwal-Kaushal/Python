{
 "cells": [
  {
   "cell_type": "code",
   "execution_count": 3,
   "id": "8a0d5cf3",
   "metadata": {},
   "outputs": [
    {
     "name": "stdout",
     "output_type": "stream",
     "text": [
      "Ensuring 'wordnet' corpus is downloaded to: C:\\Users\\ujjwa\\nltk_data\n"
     ]
    },
    {
     "name": "stderr",
     "output_type": "stream",
     "text": [
      "[nltk_data] Downloading package wordnet to C:\\Users\\ujjwa\\nltk_data...\n"
     ]
    },
    {
     "name": "stdout",
     "output_type": "stream",
     "text": [
      "\n",
      "Download complete. Now attempting lemmatization...\n",
      "\n",
      "Success! Lemmatization complete.\n",
      "The lemma for 'going' is: 'going'\n",
      "The lemma for 'corpora' is: 'corpus'\n"
     ]
    }
   ],
   "source": [
    "#Snowball stemming is better than porter stemming technique\n",
    "#Wordnet Lemmitzer  \n",
    "\n",
    "import nltk\n",
    "import os\n",
    "from nltk.stem import WordNetLemmatizer\n",
    "\n",
    "# --- Step 1: Define the reliable NLTK data location ---\n",
    "# We'll use the same 'nltk_data' folder in your user directory.\n",
    "data_dir = os.path.join(os.path.expanduser(\"~\"), \"nltk_data\")\n",
    "\n",
    "# Create the directory if it doesn't exist\n",
    "if not os.path.exists(data_dir):\n",
    "    os.makedirs(data_dir)\n",
    "\n",
    "# --- Step 2: Add this path to NLTK's search list ---\n",
    "# This ensures your script knows where to look for the data.\n",
    "if data_dir not in nltk.data.path:\n",
    "    nltk.data.path.append(data_dir)\n",
    "\n",
    "# --- Step 3: Download the required 'wordnet' package ---\n",
    "# The error message tells us we need 'wordnet'.\n",
    "print(f\"Ensuring 'wordnet' corpus is downloaded to: {data_dir}\")\n",
    "nltk.download('wordnet', download_dir=data_dir)\n",
    "\n",
    "# --- Step 4: Run your lemmatization code ---\n",
    "print(\"\\nDownload complete. Now attempting lemmatization...\")\n",
    "\n",
    "try:\n",
    "    # This block should now execute without any errors\n",
    "    lemmatizer = WordNetLemmatizer()\n",
    "    result = lemmatizer.lemmatize(\"going\")\n",
    "\n",
    "    print(\"\\nSuccess! Lemmatization complete.\")\n",
    "    print(f\"The lemma for 'going' is: '{result}'\")\n",
    "\n",
    "    # Another example\n",
    "    result_corpora = lemmatizer.lemmatize(\"corpora\")\n",
    "    print(f\"The lemma for 'corpora' is: '{result_corpora}'\")\n",
    "\n",
    "except Exception as e:\n",
    "    print(f\"\\nAn unexpected error occurred: {e}\")"
   ]
  },
  {
   "cell_type": "code",
   "execution_count": 4,
   "id": "01f5a2ec",
   "metadata": {},
   "outputs": [
    {
     "data": {
      "text/plain": [
       "'go'"
      ]
     },
     "execution_count": 4,
     "metadata": {},
     "output_type": "execute_result"
    }
   ],
   "source": [
    "lemmatizer.lemmatize(\"going\",'v')"
   ]
  },
  {
   "cell_type": "code",
   "execution_count": 8,
   "id": "b3ba6071",
   "metadata": {},
   "outputs": [
    {
     "name": "stdout",
     "output_type": "stream",
     "text": [
      "eating----->eat\n",
      "eats----->eat\n",
      "eaten----->eat\n",
      "writing----->write\n",
      "writes----->write\n",
      "programming----->program\n",
      "programs----->program\n",
      "finally----->finally\n",
      "finalize----->finalize\n",
      "history----->history\n"
     ]
    }
   ],
   "source": [
    "words = [\"eating\", \"eats\", \"eaten\", \"writing\",\"writes\", \"programming\", \"programs\", \"finally\", \"finalize\",\"history\"]\n",
    "for word in words:\n",
    "    print(word+\"----->\"+lemmatizer.lemmatize(word, pos = 'v'))"
   ]
  },
  {
   "cell_type": "code",
   "execution_count": null,
   "id": "c2186fe3",
   "metadata": {},
   "outputs": [],
   "source": []
  },
  {
   "cell_type": "code",
   "execution_count": null,
   "id": "6516bb13",
   "metadata": {},
   "outputs": [],
   "source": []
  },
  {
   "cell_type": "code",
   "execution_count": null,
   "id": "6b70285e",
   "metadata": {},
   "outputs": [],
   "source": []
  },
  {
   "cell_type": "code",
   "execution_count": null,
   "id": "2d42bca7",
   "metadata": {},
   "outputs": [],
   "source": []
  },
  {
   "cell_type": "code",
   "execution_count": null,
   "id": "2c00ed83",
   "metadata": {},
   "outputs": [],
   "source": []
  },
  {
   "cell_type": "code",
   "execution_count": null,
   "id": "7f76c252",
   "metadata": {},
   "outputs": [],
   "source": []
  }
 ],
 "metadata": {
  "kernelspec": {
   "display_name": "Python 3",
   "language": "python",
   "name": "python3"
  },
  "language_info": {
   "codemirror_mode": {
    "name": "ipython",
    "version": 3
   },
   "file_extension": ".py",
   "mimetype": "text/x-python",
   "name": "python",
   "nbconvert_exporter": "python",
   "pygments_lexer": "ipython3",
   "version": "3.12.0"
  }
 },
 "nbformat": 4,
 "nbformat_minor": 5
}
